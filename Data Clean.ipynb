{
 "cells": [
  {
   "cell_type": "markdown",
   "id": "40167a10",
   "metadata": {},
   "source": [
    "## QTM 350 Project\n",
    "### Data Merge and Clean with SQL"
   ]
  },
  {
   "cell_type": "code",
   "execution_count": null,
   "id": "a4d68f08",
   "metadata": {},
   "outputs": [],
   "source": [
    "import pandas as pd\n",
    "\n",
    "# Replace with your file paths\n",
    "mortality_df = pd.read_csv(\"API_SH.DYN.MORT.MA_DS2_en_csv_v2_27807.csv\", skiprows=4)\n",
    "fertility_df = pd.read_csv(\"API_SP.ADO.TFRT_DS2_en_csv_v2_21875.csv\", skiprows=4)\n",
    "life_expectancy_df = pd.read_csv(\"API_SP.DYN.LE00.IN_DS2_en_csv_v2_19383.csv\", skiprows=4)\n"
   ]
  }
 ],
 "metadata": {
  "kernelspec": {
   "display_name": "base",
   "language": "python",
   "name": "python3"
  },
  "language_info": {
   "name": "python",
   "version": "3.12.4"
  }
 },
 "nbformat": 4,
 "nbformat_minor": 5
}
