{
 "cells": [
  {
   "cell_type": "markdown",
   "id": "40167a10",
   "metadata": {},
   "source": [
    "## QTM 350 Project\n",
    "### Data Merge and Clean with SQL"
   ]
  },
  {
   "cell_type": "code",
   "execution_count": 1,
   "id": "a4d68f08",
   "metadata": {},
   "outputs": [],
   "source": [
    "import pandas as pd\n",
    "\n",
    "# Replace with your file paths\n",
    "mortality = pd.read_csv(\"API_SH.DYN.MORT.MA_DS2_en_csv_v2_27807.csv\", skiprows=4)\n",
    "fertility = pd.read_csv(\"API_SP.ADO.TFRT_DS2_en_csv_v2_21875.csv\", skiprows=4)\n",
    "life_expectancy = pd.read_csv(\"API_SP.DYN.LE00.IN_DS2_en_csv_v2_19383.csv\", skiprows=4)\n",
    "\n"
   ]
  },
  {
   "cell_type": "code",
   "execution_count": 9,
   "id": "823bb3fb",
   "metadata": {},
   "outputs": [],
   "source": [
    "years = [str(year) for year in range(1960, 2024)]\n",
    "keep_cols = ['Country Name', 'Country Code'] + years\n",
    "\n",
    "mortality_long = mortality[keep_cols].melt(id_vars=['Country Name', 'Country Code'], \n",
    "                                               var_name='Year', value_name='MortalityRate')\n",
    "\n",
    "fertility_long = fertility[keep_cols].melt(id_vars=['Country Name', 'Country Code'], \n",
    "                                               var_name='Year', value_name='FertilityRate')\n",
    "\n",
    "life_expectancy_long = life_expectancy[keep_cols].melt(id_vars=['Country Name', 'Country Code'], \n",
    "                                               var_name='Year', value_name='LifeExpectancy')\n"
   ]
  },
  {
   "cell_type": "code",
   "execution_count": 10,
   "id": "194a555a",
   "metadata": {},
   "outputs": [
    {
     "data": {
      "text/plain": [
       "17024"
      ]
     },
     "execution_count": 10,
     "metadata": {},
     "output_type": "execute_result"
    }
   ],
   "source": [
    "import sqlite3\n",
    "\n",
    "# Create SQLite database in memory (or replace with a filename to save it to disk)\n",
    "conn = sqlite3.connect(\":memory:\")  \n",
    "\n",
    "# Write each long-form DataFrame as a table\n",
    "mortality_long.to_sql(\"mortality_long\", conn, index=False, if_exists='replace')\n",
    "fertility_long.to_sql(\"fertility_long\", conn, index=False, if_exists='replace')\n",
    "life_expectancy_long.to_sql(\"life_expectancy_long\", conn, index=False, if_exists='replace')\n"
   ]
  },
  {
   "cell_type": "code",
   "execution_count": 11,
   "id": "f9bf3a09",
   "metadata": {},
   "outputs": [
    {
     "data": {
      "text/plain": [
       "<sqlite3.Cursor at 0x1502f0240>"
      ]
     },
     "execution_count": 11,
     "metadata": {},
     "output_type": "execute_result"
    }
   ],
   "source": [
    "# Merge all three long tables\n",
    "query_merge = \"\"\"\n",
    "CREATE TABLE merged_data AS\n",
    "SELECT \n",
    "    l.\"Country Name\" AS country_name,\n",
    "    l.\"Country Code\" AS country_code,\n",
    "    l.\"Year\" AS year,\n",
    "    l.\"LifeExpectancy\",\n",
    "    m.\"MortalityRate\",\n",
    "    f.\"FertilityRate\"\n",
    "FROM life_expectancy_long l\n",
    "LEFT JOIN mortality_long m ON l.\"Country Name\" = m.\"Country Name\" AND l.\"Year\" = m.\"Year\"\n",
    "LEFT JOIN fertility_long f ON l.\"Country Name\" = f.\"Country Name\" AND l.\"Year\" = f.\"Year\";\n",
    "\"\"\"\n",
    "conn.execute(query_merge)\n"
   ]
  },
  {
   "cell_type": "code",
   "execution_count": 12,
   "id": "fdb0fc54",
   "metadata": {},
   "outputs": [
    {
     "data": {
      "text/plain": [
       "<sqlite3.Cursor at 0x1502f0ac0>"
      ]
     },
     "execution_count": 12,
     "metadata": {},
     "output_type": "execute_result"
    }
   ],
   "source": [
    "query_clean_strict = \"\"\"\n",
    "CREATE TABLE cleaned_data AS\n",
    "SELECT *\n",
    "FROM merged_data\n",
    "WHERE LifeExpectancy IS NOT NULL\n",
    "  AND MortalityRate IS NOT NULL\n",
    "  AND FertilityRate IS NOT NULL;\n",
    "\"\"\"\n",
    "conn.execute(query_clean_strict)\n"
   ]
  },
  {
   "cell_type": "code",
   "execution_count": 13,
   "id": "9e9aa0e9",
   "metadata": {},
   "outputs": [
    {
     "data": {
      "application/vnd.microsoft.datawrangler.viewer.v0+json": {
       "columns": [
        {
         "name": "index",
         "rawType": "int64",
         "type": "integer"
        },
        {
         "name": "country_name",
         "rawType": "object",
         "type": "string"
        },
        {
         "name": "country_code",
         "rawType": "object",
         "type": "string"
        },
        {
         "name": "year",
         "rawType": "object",
         "type": "string"
        },
        {
         "name": "LifeExpectancy",
         "rawType": "float64",
         "type": "float"
        },
        {
         "name": "MortalityRate",
         "rawType": "float64",
         "type": "float"
        },
        {
         "name": "FertilityRate",
         "rawType": "float64",
         "type": "float"
        }
       ],
       "conversionMethod": "pd.DataFrame",
       "ref": "0349ccf1-c64a-481e-9e3a-ff27e2fec1bc",
       "rows": [
        [
         "0",
         "Afghanistan",
         "AFG",
         "1960",
         "32.799",
         "360.5",
         "140.598"
        ],
        [
         "1",
         "United Arab Emirates",
         "ARE",
         "1960",
         "50.651",
         "211.2",
         "155.143"
        ],
        [
         "2",
         "Antigua and Barbuda",
         "ATG",
         "1960",
         "62.635",
         "86.8",
         "120.289"
        ],
        [
         "3",
         "Australia",
         "AUS",
         "1960",
         "70.8170731707317",
         "27.6",
         "43.132"
        ],
        [
         "4",
         "Austria",
         "AUT",
         "1960",
         "68.5856097560976",
         "47.7",
         "52.005"
        ]
       ],
       "shape": {
        "columns": 6,
        "rows": 5
       }
      },
      "text/html": [
       "<div>\n",
       "<style scoped>\n",
       "    .dataframe tbody tr th:only-of-type {\n",
       "        vertical-align: middle;\n",
       "    }\n",
       "\n",
       "    .dataframe tbody tr th {\n",
       "        vertical-align: top;\n",
       "    }\n",
       "\n",
       "    .dataframe thead th {\n",
       "        text-align: right;\n",
       "    }\n",
       "</style>\n",
       "<table border=\"1\" class=\"dataframe\">\n",
       "  <thead>\n",
       "    <tr style=\"text-align: right;\">\n",
       "      <th></th>\n",
       "      <th>country_name</th>\n",
       "      <th>country_code</th>\n",
       "      <th>year</th>\n",
       "      <th>LifeExpectancy</th>\n",
       "      <th>MortalityRate</th>\n",
       "      <th>FertilityRate</th>\n",
       "    </tr>\n",
       "  </thead>\n",
       "  <tbody>\n",
       "    <tr>\n",
       "      <th>0</th>\n",
       "      <td>Afghanistan</td>\n",
       "      <td>AFG</td>\n",
       "      <td>1960</td>\n",
       "      <td>32.799000</td>\n",
       "      <td>360.5</td>\n",
       "      <td>140.598</td>\n",
       "    </tr>\n",
       "    <tr>\n",
       "      <th>1</th>\n",
       "      <td>United Arab Emirates</td>\n",
       "      <td>ARE</td>\n",
       "      <td>1960</td>\n",
       "      <td>50.651000</td>\n",
       "      <td>211.2</td>\n",
       "      <td>155.143</td>\n",
       "    </tr>\n",
       "    <tr>\n",
       "      <th>2</th>\n",
       "      <td>Antigua and Barbuda</td>\n",
       "      <td>ATG</td>\n",
       "      <td>1960</td>\n",
       "      <td>62.635000</td>\n",
       "      <td>86.8</td>\n",
       "      <td>120.289</td>\n",
       "    </tr>\n",
       "    <tr>\n",
       "      <th>3</th>\n",
       "      <td>Australia</td>\n",
       "      <td>AUS</td>\n",
       "      <td>1960</td>\n",
       "      <td>70.817073</td>\n",
       "      <td>27.6</td>\n",
       "      <td>43.132</td>\n",
       "    </tr>\n",
       "    <tr>\n",
       "      <th>4</th>\n",
       "      <td>Austria</td>\n",
       "      <td>AUT</td>\n",
       "      <td>1960</td>\n",
       "      <td>68.585610</td>\n",
       "      <td>47.7</td>\n",
       "      <td>52.005</td>\n",
       "    </tr>\n",
       "  </tbody>\n",
       "</table>\n",
       "</div>"
      ],
      "text/plain": [
       "           country_name country_code  year  LifeExpectancy  MortalityRate  \\\n",
       "0           Afghanistan          AFG  1960       32.799000          360.5   \n",
       "1  United Arab Emirates          ARE  1960       50.651000          211.2   \n",
       "2   Antigua and Barbuda          ATG  1960       62.635000           86.8   \n",
       "3             Australia          AUS  1960       70.817073           27.6   \n",
       "4               Austria          AUT  1960       68.585610           47.7   \n",
       "\n",
       "   FertilityRate  \n",
       "0        140.598  \n",
       "1        155.143  \n",
       "2        120.289  \n",
       "3         43.132  \n",
       "4         52.005  "
      ]
     },
     "execution_count": 13,
     "metadata": {},
     "output_type": "execute_result"
    }
   ],
   "source": [
    "cleaned_df = pd.read_sql(\"SELECT * FROM cleaned_data\", conn)\n",
    "cleaned_df.head()\n"
   ]
  },
  {
   "cell_type": "code",
   "execution_count": 14,
   "id": "7b765e12",
   "metadata": {},
   "outputs": [
    {
     "data": {
      "application/vnd.microsoft.datawrangler.viewer.v0+json": {
       "columns": [
        {
         "name": "index",
         "rawType": "int64",
         "type": "integer"
        },
        {
         "name": "country_name",
         "rawType": "object",
         "type": "string"
        },
        {
         "name": "country_code",
         "rawType": "object",
         "type": "string"
        },
        {
         "name": "year",
         "rawType": "object",
         "type": "string"
        },
        {
         "name": "LifeExpectancy",
         "rawType": "float64",
         "type": "float"
        },
        {
         "name": "MortalityRate",
         "rawType": "float64",
         "type": "float"
        },
        {
         "name": "FertilityRate",
         "rawType": "float64",
         "type": "float"
        },
        {
         "name": "Country Code",
         "rawType": "object",
         "type": "string"
        },
        {
         "name": "IncomeGroup",
         "rawType": "object",
         "type": "string"
        }
       ],
       "conversionMethod": "pd.DataFrame",
       "ref": "1123636e-db28-4ff4-aedb-92d0d1dd80e0",
       "rows": [
        [
         "0",
         "Afghanistan",
         "AFG",
         "1960",
         "32.799",
         "360.5",
         "140.598",
         "AFG",
         "Low income"
        ],
        [
         "1",
         "United Arab Emirates",
         "ARE",
         "1960",
         "50.651",
         "211.2",
         "155.143",
         "ARE",
         "High income"
        ],
        [
         "2",
         "Antigua and Barbuda",
         "ATG",
         "1960",
         "62.635",
         "86.8",
         "120.289",
         "ATG",
         "High income"
        ],
        [
         "3",
         "Australia",
         "AUS",
         "1960",
         "70.8170731707317",
         "27.6",
         "43.132",
         "AUS",
         "High income"
        ],
        [
         "4",
         "Austria",
         "AUT",
         "1960",
         "68.5856097560976",
         "47.7",
         "52.005",
         "AUT",
         "High income"
        ]
       ],
       "shape": {
        "columns": 8,
        "rows": 5
       }
      },
      "text/html": [
       "<div>\n",
       "<style scoped>\n",
       "    .dataframe tbody tr th:only-of-type {\n",
       "        vertical-align: middle;\n",
       "    }\n",
       "\n",
       "    .dataframe tbody tr th {\n",
       "        vertical-align: top;\n",
       "    }\n",
       "\n",
       "    .dataframe thead th {\n",
       "        text-align: right;\n",
       "    }\n",
       "</style>\n",
       "<table border=\"1\" class=\"dataframe\">\n",
       "  <thead>\n",
       "    <tr style=\"text-align: right;\">\n",
       "      <th></th>\n",
       "      <th>country_name</th>\n",
       "      <th>country_code</th>\n",
       "      <th>year</th>\n",
       "      <th>LifeExpectancy</th>\n",
       "      <th>MortalityRate</th>\n",
       "      <th>FertilityRate</th>\n",
       "      <th>Country Code</th>\n",
       "      <th>IncomeGroup</th>\n",
       "    </tr>\n",
       "  </thead>\n",
       "  <tbody>\n",
       "    <tr>\n",
       "      <th>0</th>\n",
       "      <td>Afghanistan</td>\n",
       "      <td>AFG</td>\n",
       "      <td>1960</td>\n",
       "      <td>32.799000</td>\n",
       "      <td>360.5</td>\n",
       "      <td>140.598</td>\n",
       "      <td>AFG</td>\n",
       "      <td>Low income</td>\n",
       "    </tr>\n",
       "    <tr>\n",
       "      <th>1</th>\n",
       "      <td>United Arab Emirates</td>\n",
       "      <td>ARE</td>\n",
       "      <td>1960</td>\n",
       "      <td>50.651000</td>\n",
       "      <td>211.2</td>\n",
       "      <td>155.143</td>\n",
       "      <td>ARE</td>\n",
       "      <td>High income</td>\n",
       "    </tr>\n",
       "    <tr>\n",
       "      <th>2</th>\n",
       "      <td>Antigua and Barbuda</td>\n",
       "      <td>ATG</td>\n",
       "      <td>1960</td>\n",
       "      <td>62.635000</td>\n",
       "      <td>86.8</td>\n",
       "      <td>120.289</td>\n",
       "      <td>ATG</td>\n",
       "      <td>High income</td>\n",
       "    </tr>\n",
       "    <tr>\n",
       "      <th>3</th>\n",
       "      <td>Australia</td>\n",
       "      <td>AUS</td>\n",
       "      <td>1960</td>\n",
       "      <td>70.817073</td>\n",
       "      <td>27.6</td>\n",
       "      <td>43.132</td>\n",
       "      <td>AUS</td>\n",
       "      <td>High income</td>\n",
       "    </tr>\n",
       "    <tr>\n",
       "      <th>4</th>\n",
       "      <td>Austria</td>\n",
       "      <td>AUT</td>\n",
       "      <td>1960</td>\n",
       "      <td>68.585610</td>\n",
       "      <td>47.7</td>\n",
       "      <td>52.005</td>\n",
       "      <td>AUT</td>\n",
       "      <td>High income</td>\n",
       "    </tr>\n",
       "  </tbody>\n",
       "</table>\n",
       "</div>"
      ],
      "text/plain": [
       "           country_name country_code  year  LifeExpectancy  MortalityRate  \\\n",
       "0           Afghanistan          AFG  1960       32.799000          360.5   \n",
       "1  United Arab Emirates          ARE  1960       50.651000          211.2   \n",
       "2   Antigua and Barbuda          ATG  1960       62.635000           86.8   \n",
       "3             Australia          AUS  1960       70.817073           27.6   \n",
       "4               Austria          AUT  1960       68.585610           47.7   \n",
       "\n",
       "   FertilityRate Country Code  IncomeGroup  \n",
       "0        140.598          AFG   Low income  \n",
       "1        155.143          ARE  High income  \n",
       "2        120.289          ATG  High income  \n",
       "3         43.132          AUS  High income  \n",
       "4         52.005          AUT  High income  "
      ]
     },
     "execution_count": 14,
     "metadata": {},
     "output_type": "execute_result"
    }
   ],
   "source": [
    "income_df = pd.read_csv(\"/Users/noora_ni0321/Desktop/QTM 350/API_SP.ADO.TFRT_DS2_en_csv_v2_21875/Metadata_Country_API_SP.ADO.TFRT_DS2_en_csv_v2_21875.csv\")\n",
    "\n",
    "# Select only necessary columns from income_df\n",
    "income_df = income_df[['Country Code', 'IncomeGroup']]\n",
    "\n",
    "# Merge cleaned dataset with income data on 'country_code'\n",
    "merged_df = pd.merge(cleaned_df, income_df,\n",
    "                     left_on='country_code', right_on='Country Code', how='left')\n",
    "\n",
    "# Drop rows where income is missing\n",
    "cleaned_df = merged_df.dropna(subset=['IncomeGroup'])\n",
    "cleaned_df.head()"
   ]
  },
  {
   "cell_type": "code",
   "execution_count": 15,
   "id": "325ceba4",
   "metadata": {},
   "outputs": [],
   "source": [
    "cleaned_df.to_csv(\"cleaned_data.csv\", index=False)"
   ]
  }
 ],
 "metadata": {
  "kernelspec": {
   "display_name": "base",
   "language": "python",
   "name": "python3"
  },
  "language_info": {
   "codemirror_mode": {
    "name": "ipython",
    "version": 3
   },
   "file_extension": ".py",
   "mimetype": "text/x-python",
   "name": "python",
   "nbconvert_exporter": "python",
   "pygments_lexer": "ipython3",
   "version": "3.12.2"
  }
 },
 "nbformat": 4,
 "nbformat_minor": 5
}
